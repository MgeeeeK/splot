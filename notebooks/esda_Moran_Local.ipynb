{
 "cells": [
  {
   "cell_type": "markdown",
   "metadata": {},
   "source": [
    "# Exploratory Analysis of Spatial Data: Visualizing Spatial Autocorrelation with `splot` and `esda`\n",
    "\n",
    "1. Imports\n",
    "2. Load Example data\n",
    "3. Assessing Global Spatial Autocorrelation\n",
    "4. Visualizing Local Autocorrelation Statistics with `splot`\n",
    "5. Combined visualizations: Moran Local Scatterplot, LISA clustermap and Choropleth map"
   ]
  },
  {
   "cell_type": "markdown",
   "metadata": {},
   "source": [
    "## Imports"
   ]
  },
  {
   "cell_type": "code",
   "execution_count": 1,
   "metadata": {},
   "outputs": [],
   "source": [
    "%matplotlib inline\n",
    "\n",
    "import matplotlib.pyplot as plt\n",
    "import pysal as ps\n",
    "import libpysal.api as lp\n",
    "import numpy as np\n",
    "import pandas as pd\n",
    "import geopandas as gpd\n",
    "import os\n",
    "import splot\n",
    "\n",
    "from libpysal import examples\n",
    "\n",
    "from IPython.display import Image"
   ]
  },
  {
   "cell_type": "markdown",
   "metadata": {},
   "source": [
    "## Example Data\n",
    "\n",
    "First, we will load the Guerry.shp data from `examples` in `libpysal`."
   ]
  },
  {
   "cell_type": "code",
   "execution_count": 2,
   "metadata": {},
   "outputs": [],
   "source": [
    "link_to_data = examples.get_path('columbus.shp')\n",
    "df = gpd.read_file(link_to_data)"
   ]
  },
  {
   "cell_type": "markdown",
   "metadata": {},
   "source": [
    "For this example we will focus on the Donatns (charitable donations per capita) variable. We will calculate Contiguity weights `w` with `ps.queen_from_shapefile()`. Then we transform our weights to be row-standardized."
   ]
  },
  {
   "cell_type": "code",
   "execution_count": 3,
   "metadata": {},
   "outputs": [],
   "source": [
    "y = df['HOVAL'].values\n",
    "w = lp.Queen.from_dataframe(df)\n",
    "w.transform = 'r'"
   ]
  },
  {
   "cell_type": "markdown",
   "metadata": {},
   "source": [
    "## Assessing Global Spatial Autocorrelation"
   ]
  },
  {
   "cell_type": "markdown",
   "metadata": {},
   "source": [
    "We calculate Moran's I. A test for global autocorrelation for a continuous attribute."
   ]
  },
  {
   "cell_type": "code",
   "execution_count": 4,
   "metadata": {},
   "outputs": [
    {
     "data": {
      "text/plain": [
       "0.180093114317273"
      ]
     },
     "execution_count": 4,
     "metadata": {},
     "output_type": "execute_result"
    }
   ],
   "source": [
    "from esda.moran import Moran\n",
    "\n",
    "w = lp.Queen.from_dataframe(df)\n",
    "moran = Moran(y, w)\n",
    "moran.I"
   ]
  },
  {
   "cell_type": "markdown",
   "metadata": {},
   "source": [
    "Our value for the statistic is interpreted against a reference distribution under the null of complete spatial randomness. PySAL uses the approach of random spatial permutations."
   ]
  },
  {
   "cell_type": "code",
   "execution_count": 15,
   "metadata": {},
   "outputs": [
    {
     "data": {
      "text/plain": [
       "<module 'splot._viz_esda_mpl' from '/Users/steffie/code/splot/splot/_viz_esda_mpl.py'>"
      ]
     },
     "execution_count": 15,
     "metadata": {},
     "output_type": "execute_result"
    }
   ],
   "source": [
    "from importlib import reload\n",
    "reload(splot._viz_esda_mpl)"
   ]
  },
  {
   "cell_type": "code",
   "execution_count": 16,
   "metadata": {},
   "outputs": [
    {
     "data": {
      "image/png": "[encoded data removed]",
      "text/plain": [
       "<Figure size 720x288 with 2 Axes>"
      ]
     },
     "metadata": {},
     "output_type": "display_data"
    }
   ],
   "source": [
    "from splot._viz_esda_mpl import plot_moran\n",
    "plot_moran(moran, figsize=(10,4))\n",
    "plt.show()"
   ]
  },
  {
   "cell_type": "markdown",
   "metadata": {},
   "source": [
    "Our observed value is statistically significant:"
   ]
  },
  {
   "cell_type": "code",
   "execution_count": 6,
   "metadata": {},
   "outputs": [
    {
     "data": {
      "text/plain": [
       "0.03"
      ]
     },
     "execution_count": 6,
     "metadata": {},
     "output_type": "execute_result"
    }
   ],
   "source": [
    "moran.p_sim"
   ]
  },
  {
   "cell_type": "markdown",
   "metadata": {},
   "source": [
    "## Visualizing Local Autocorrelation with splot - Hot Spots, Cold Spots and Spatial Outliers"
   ]
  },
  {
   "cell_type": "markdown",
   "metadata": {},
   "source": [
    "In addition to visualizing Global autocorrelation statistics, splot has options to visualize local autocorrelation statistics. We compute the local Moran `m`. Then, we plot the spatial lag and the Donatns variable in a Moran Scatterplot."
   ]
  },
  {
   "cell_type": "code",
   "execution_count": 7,
   "metadata": {},
   "outputs": [
    {
     "ename": "NameError",
     "evalue": "name 'reload' is not defined",
     "output_type": "error",
     "traceback": [
      "\u001b[0;31m---------------------------------------------------------------------------\u001b[0m",
      "\u001b[0;31mNameError\u001b[0m                                 Traceback (most recent call last)",
      "\u001b[0;32m<ipython-input-7-29dac01e4bac>\u001b[0m in \u001b[0;36m<module>\u001b[0;34m()\u001b[0m\n\u001b[1;32m      1\u001b[0m \u001b[0;32mfrom\u001b[0m \u001b[0msplot\u001b[0m\u001b[0;34m.\u001b[0m\u001b[0mesda\u001b[0m \u001b[0;32mimport\u001b[0m \u001b[0mmoran_loc_scatterplot\u001b[0m\u001b[0;34m\u001b[0m\u001b[0m\n\u001b[1;32m      2\u001b[0m \u001b[0;32mfrom\u001b[0m \u001b[0mesda\u001b[0m\u001b[0;34m.\u001b[0m\u001b[0mmoran\u001b[0m \u001b[0;32mimport\u001b[0m \u001b[0mMoran_Local\u001b[0m\u001b[0;34m\u001b[0m\u001b[0m\n\u001b[0;32m----> 3\u001b[0;31m \u001b[0mreload\u001b[0m\u001b[0;34m(\u001b[0m\u001b[0msplot\u001b[0m\u001b[0;34m.\u001b[0m\u001b[0mesda\u001b[0m\u001b[0;34m)\u001b[0m\u001b[0;34m\u001b[0m\u001b[0m\n\u001b[0m\u001b[1;32m      4\u001b[0m \u001b[0mmoran_loc\u001b[0m \u001b[0;34m=\u001b[0m \u001b[0mMoran_Local\u001b[0m\u001b[0;34m(\u001b[0m\u001b[0my\u001b[0m\u001b[0;34m,\u001b[0m \u001b[0mw\u001b[0m\u001b[0;34m)\u001b[0m\u001b[0;34m\u001b[0m\u001b[0m\n\u001b[1;32m      5\u001b[0m moran_loc_scatterplot(moran_loc, xlabel='Donatns', ylabel='Spatial Lag of Donatns',\n",
      "\u001b[0;31mNameError\u001b[0m: name 'reload' is not defined"
     ]
    }
   ],
   "source": [
    "from splot.esda import moran_loc_scatterplot\n",
    "from esda.moran import Moran_Local\n",
    "reload(splot.esda)\n",
    "moran_loc = Moran_Local(y, w)\n",
    "moran_loc_scatterplot(moran_loc, xlabel='Donatns', ylabel='Spatial Lag of Donatns',\n",
    "      title='Local Moran Scatterplot', figsize=(7,7))\n",
    "plt.show()"
   ]
  },
  {
   "cell_type": "code",
   "execution_count": null,
   "metadata": {
    "scrolled": false
   },
   "outputs": [],
   "source": [
    "m = Moran_Local(y, w)\n",
    "moran_loc_scatterplot(m, xlabel='Donatns', ylabel='Spatial Lag of Donatns',\n",
    "                 title='Local Moran Scatterplot', p=0.05, ax=None, alpha = 0.95)\n",
    "plt.show()"
   ]
  },
  {
   "cell_type": "markdown",
   "metadata": {},
   "source": [
    "We can distinguish the specific type of local spatial autocorrelation in High-High, Low-Low, High-Low, Low-High.\n",
    "Where the upper right quadrant displays HH, the lower left, LL, the upper left LH and the lower left HL.\n",
    "\n",
    "These types of local spatial autocorrelation describe similarities or dissimilarities between a specific polygon with its neighbouring polygons. The upper left quadrant for example indicates that polygons with low values are surrounded by polygones with high values (LH). The lower right quadrant shows polygons with high values surrounded by neighbors with low values (HL). This indicates an association of dissimilar values.\n",
    "\n",
    "Let's now visualize the areas we found to be significant on a map:"
   ]
  },
  {
   "cell_type": "code",
   "execution_count": null,
   "metadata": {},
   "outputs": [],
   "source": [
    "from splot.esda import lisa_cluster\n",
    "\n",
    "lisa_cluster(moran_loc, df, p=0.05, figsize = (9,9))\n",
    "plt.show()"
   ]
  },
  {
   "cell_type": "markdown",
   "metadata": {},
   "source": [
    "# Combined visualizations\n",
    "\n",
    "Often, it is easier to asses once statistical results or interpret these results comparing different visualizations.\n",
    "Here we for example look at a static visualization of a Moran Scatterplot, LISA cluster map and choropleth map."
   ]
  },
  {
   "cell_type": "code",
   "execution_count": null,
   "metadata": {},
   "outputs": [],
   "source": [
    "from splot.esda import plot_local_autocorrelation\n",
    "plot_local_autocorrelation(m, df, 'Donatns')\n",
    "plt.show()"
   ]
  },
  {
   "cell_type": "code",
   "execution_count": null,
   "metadata": {},
   "outputs": [],
   "source": [
    "plot_local_autocorrelation(m, df, 'Donatns', quadrant=1)\n",
    "plt.show()"
   ]
  }
 ],
 "metadata": {
  "kernelspec": {
   "display_name": "Python 3",
   "language": "python",
   "name": "python3"
  },
  "language_info": {
   "codemirror_mode": {
    "name": "ipython",
    "version": 3
   },
   "file_extension": ".py",
   "mimetype": "text/x-python",
   "name": "python",
   "nbconvert_exporter": "python",
   "pygments_lexer": "ipython3",
   "version": "3.6.5"
  }
 },
 "nbformat": 4,
 "nbformat_minor": 2
}
